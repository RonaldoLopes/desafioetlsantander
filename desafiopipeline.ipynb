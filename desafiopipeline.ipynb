{
 "cells": [
  {
   "cell_type": "code",
   "execution_count": 3,
   "metadata": {},
   "outputs": [
    {
     "name": "stdout",
     "output_type": "stream",
     "text": [
      "Collecting pandas\n",
      "  Using cached pandas-2.0.3-cp311-cp311-win_amd64.whl (10.6 MB)\n",
      "Requirement already satisfied: python-dateutil>=2.8.2 in c:\\users\\ronal\\appdata\\local\\packages\\pythonsoftwarefoundation.python.3.11_qbz5n2kfra8p0\\localcache\\local-packages\\python311\\site-packages (from pandas) (2.8.2)\n",
      "Collecting pytz>=2020.1 (from pandas)\n",
      "  Using cached pytz-2023.3-py2.py3-none-any.whl (502 kB)\n",
      "Collecting tzdata>=2022.1 (from pandas)\n",
      "  Using cached tzdata-2023.3-py2.py3-none-any.whl (341 kB)\n",
      "Collecting numpy>=1.21.0 (from pandas)\n",
      "  Using cached numpy-1.25.2-cp311-cp311-win_amd64.whl (15.5 MB)\n",
      "Requirement already satisfied: six>=1.5 in c:\\users\\ronal\\appdata\\local\\packages\\pythonsoftwarefoundation.python.3.11_qbz5n2kfra8p0\\localcache\\local-packages\\python311\\site-packages (from python-dateutil>=2.8.2->pandas) (1.16.0)\n",
      "Installing collected packages: pytz, tzdata, numpy, pandas\n",
      "Successfully installed numpy-1.25.2 pandas-2.0.3 pytz-2023.3 tzdata-2023.3\n"
     ]
    },
    {
     "name": "stderr",
     "output_type": "stream",
     "text": [
      "\n",
      "[notice] A new release of pip is available: 23.1.2 -> 23.2.1\n",
      "[notice] To update, run: C:\\Users\\ronal\\AppData\\Local\\Microsoft\\WindowsApps\\PythonSoftwareFoundation.Python.3.11_qbz5n2kfra8p0\\python.exe -m pip install --upgrade pip\n"
     ]
    }
   ],
   "source": [
    "!pip install pandas"
   ]
  },
  {
   "cell_type": "code",
   "execution_count": 33,
   "metadata": {},
   "outputs": [],
   "source": [
    "import pandas as pd\n",
    "import json"
   ]
  },
  {
   "cell_type": "markdown",
   "metadata": {},
   "source": [
    "## **E**xtract"
   ]
  },
  {
   "cell_type": "code",
   "execution_count": 18,
   "metadata": {},
   "outputs": [],
   "source": [
    "def read_csv():\n",
    "    try:\n",
    "        df_municipios = pd.read_csv('municipios.csv', sep=';', encoding='latin1', na_values=['NA', 'N/A'])\n",
    "        print(\"Arquivo lido com sucesso usando a codificação:\", encoding)\n",
    "    except UnicodeDecodeError:\n",
    "        print(\"Erro ao ler o arquivo com a codificação:\", encoding)\n",
    "    return (df_municipios)"
   ]
  },
  {
   "cell_type": "markdown",
   "metadata": {},
   "source": [
    "## **T**ransform"
   ]
  },
  {
   "cell_type": "code",
   "execution_count": 24,
   "metadata": {},
   "outputs": [],
   "source": [
    "def get_dez_maiores_populacoes(df):\n",
    "    df_maiores_populacoes = df.sort_values(by='População', ascending=False).head(10)\n",
    "    return(df_maiores_populacoes)\n",
    "\n",
    "def get_dez_menores_populacoes(df):\n",
    "    df_menores_populacoes = df.sort_values(by='População', ascending=True).head(10)\n",
    "    return(df_menores_populacoes)"
   ]
  },
  {
   "cell_type": "markdown",
   "metadata": {},
   "source": [
    "## **L**oad"
   ]
  },
  {
   "cell_type": "code",
   "execution_count": 35,
   "metadata": {},
   "outputs": [],
   "source": [
    "def generate_json(df):\n",
    "    data = df.to_dict(orient='records')\n",
    "    df_json = json.dumps(data, indent=4, ensure_ascii=False)\n",
    "\n",
    "    print(df_json)"
   ]
  },
  {
   "cell_type": "code",
   "execution_count": 36,
   "metadata": {},
   "outputs": [
    {
     "name": "stdout",
     "output_type": "stream",
     "text": [
      "Arquivo lido com sucesso usando a codificação: latin1\n",
      "[\n",
      "    {\n",
      "        \"UF\": \"SP\",\n",
      "        \"Município\": \"São Paulo\",\n",
      "        \"Região\": \"Região Sudeste\",\n",
      "        \"População\": 11253503.0,\n",
      "        \"Porte\": \"Metrópole\"\n",
      "    },\n",
      "    {\n",
      "        \"UF\": \"RJ\",\n",
      "        \"Município\": \"Rio de Janeiro\",\n",
      "        \"Região\": \"Região Sudeste\",\n",
      "        \"População\": 6320446.0,\n",
      "        \"Porte\": \"Metrópole\"\n",
      "    },\n",
      "    {\n",
      "        \"UF\": \"BA\",\n",
      "        \"Município\": \"Salvador\",\n",
      "        \"Região\": \"Região Nordeste\",\n",
      "        \"População\": 2675656.0,\n",
      "        \"Porte\": \"Metrópole\"\n",
      "    },\n",
      "    {\n",
      "        \"UF\": \"DF\",\n",
      "        \"Município\": \"Brasília\",\n",
      "        \"Região\": \"Região Centro-Oeste\",\n",
      "        \"População\": 2570160.0,\n",
      "        \"Porte\": \"Metrópole\"\n",
      "    },\n",
      "    {\n",
      "        \"UF\": \"CE\",\n",
      "        \"Município\": \"Fortaleza\",\n",
      "        \"Região\": \"Região Nordeste\",\n",
      "        \"População\": 2452185.0,\n",
      "        \"Porte\": \"Metrópole\"\n",
      "    },\n",
      "    {\n",
      "        \"UF\": \"MG\",\n",
      "        \"Município\": \"Belo Horizonte\",\n",
      "        \"Região\": \"Região Sudeste\",\n",
      "        \"População\": 2375151.0,\n",
      "        \"Porte\": \"Metrópole\"\n",
      "    },\n",
      "    {\n",
      "        \"UF\": \"AM\",\n",
      "        \"Município\": \"Manaus\",\n",
      "        \"Região\": \"Região Norte\",\n",
      "        \"População\": 1802014.0,\n",
      "        \"Porte\": \"Metrópole\"\n",
      "    },\n",
      "    {\n",
      "        \"UF\": \"PR\",\n",
      "        \"Município\": \"Curitiba\",\n",
      "        \"Região\": \"Região Sul\",\n",
      "        \"População\": 1751907.0,\n",
      "        \"Porte\": \"Metrópole\"\n",
      "    },\n",
      "    {\n",
      "        \"UF\": \"PE\",\n",
      "        \"Município\": \"Recife\",\n",
      "        \"Região\": \"Região Nordeste\",\n",
      "        \"População\": 1537704.0,\n",
      "        \"Porte\": \"Metrópole\"\n",
      "    },\n",
      "    {\n",
      "        \"UF\": \"RS\",\n",
      "        \"Município\": \"Porto Alegre\",\n",
      "        \"Região\": \"Região Sul\",\n",
      "        \"População\": 1409351.0,\n",
      "        \"Porte\": \"Metrópole\"\n",
      "    },\n",
      "    {\n",
      "        \"UF\": \"SP\",\n",
      "        \"Município\": \"Borá\",\n",
      "        \"Região\": \"Região Sudeste\",\n",
      "        \"População\": 805.0,\n",
      "        \"Porte\": \"Pequeno I\"\n",
      "    },\n",
      "    {\n",
      "        \"UF\": \"MG\",\n",
      "        \"Município\": \"Serra da Saudade\",\n",
      "        \"Região\": \"Região Sudeste\",\n",
      "        \"População\": 815.0,\n",
      "        \"Porte\": \"Pequeno I\"\n",
      "    },\n",
      "    {\n",
      "        \"UF\": \"GO\",\n",
      "        \"Município\": \"Anhanguera\",\n",
      "        \"Região\": \"Região Centro-Oeste\",\n",
      "        \"População\": 1020.0,\n",
      "        \"Porte\": \"Pequeno I\"\n",
      "    },\n",
      "    {\n",
      "        \"UF\": \"TO\",\n",
      "        \"Município\": \"Oliveira de Fátima\",\n",
      "        \"Região\": \"Região Norte\",\n",
      "        \"População\": 1037.0,\n",
      "        \"Porte\": \"Pequeno I\"\n",
      "    },\n",
      "    {\n",
      "        \"UF\": \"MT\",\n",
      "        \"Município\": \"Araguainha\",\n",
      "        \"Região\": \"Região Centro-Oeste\",\n",
      "        \"População\": 1096.0,\n",
      "        \"Porte\": \"Pequeno I\"\n",
      "    },\n",
      "    {\n",
      "        \"UF\": \"SP\",\n",
      "        \"Município\": \"Nova Castilho\",\n",
      "        \"Região\": \"Região Sudeste\",\n",
      "        \"População\": 1125.0,\n",
      "        \"Porte\": \"Pequeno I\"\n",
      "    },\n",
      "    {\n",
      "        \"UF\": \"MG\",\n",
      "        \"Município\": \"Cedro do Abaeté\",\n",
      "        \"Região\": \"Região Sudeste\",\n",
      "        \"População\": 1210.0,\n",
      "        \"Porte\": \"Pequeno I\"\n",
      "    },\n",
      "    {\n",
      "        \"UF\": \"RS\",\n",
      "        \"Município\": \"André da Rocha\",\n",
      "        \"Região\": \"Região Sul\",\n",
      "        \"População\": 1216.0,\n",
      "        \"Porte\": \"Pequeno I\"\n",
      "    },\n",
      "    {\n",
      "        \"UF\": \"SP\",\n",
      "        \"Município\": \"Uru\",\n",
      "        \"Região\": \"Região Sudeste\",\n",
      "        \"População\": 1251.0,\n",
      "        \"Porte\": \"Pequeno I\"\n",
      "    },\n",
      "    {\n",
      "        \"UF\": \"PI\",\n",
      "        \"Município\": \"Miguel Leão\",\n",
      "        \"Região\": \"Região Nordeste\",\n",
      "        \"População\": 1253.0,\n",
      "        \"Porte\": \"Pequeno I\"\n",
      "    }\n",
      "]\n"
     ]
    }
   ],
   "source": [
    "get_csv = read_csv()\n",
    "get_maiores_populacoes = get_dez_maiores_populacoes(get_csv)\n",
    "get_menores_populacoes = get_dez_menores_populacoes(get_csv)\n",
    "df_completo = pd.concat([get_maiores_populacoes, get_menores_populacoes], ignore_index=True)\n",
    "generate_json(df_completo)\n"
   ]
  },
  {
   "cell_type": "code",
   "execution_count": null,
   "metadata": {},
   "outputs": [],
   "source": []
  }
 ],
 "metadata": {
  "kernelspec": {
   "display_name": "Python 3",
   "language": "python",
   "name": "python3"
  },
  "language_info": {
   "codemirror_mode": {
    "name": "ipython",
    "version": 3
   },
   "file_extension": ".py",
   "mimetype": "text/x-python",
   "name": "python",
   "nbconvert_exporter": "python",
   "pygments_lexer": "ipython3",
   "version": "3.11.4"
  },
  "orig_nbformat": 4
 },
 "nbformat": 4,
 "nbformat_minor": 2
}
